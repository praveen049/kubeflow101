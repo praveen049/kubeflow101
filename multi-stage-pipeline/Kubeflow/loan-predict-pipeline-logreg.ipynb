{
 "cells": [
  {
   "cell_type": "code",
   "execution_count": 5,
   "metadata": {},
   "outputs": [],
   "source": [
    "import kfp.dsl as dsl\n",
    "import kfp.compiler as compiler\n",
    "import kfp\n",
    "import kfp.components as comp"
   ]
  },
  {
   "cell_type": "code",
   "execution_count": 2,
   "metadata": {},
   "outputs": [],
   "source": [
    "@dsl.pipeline(name='load-predict-pipeline-logreg')\n",
    "def pipeline(project_id='loan-predict'):\n",
    "    preprocessor = dsl.ContainerOp(\n",
    "        name='preprocessor',\n",
    "        image='praveen049/loan-predict-logreg-preproc',\n",
    "        command=['python', 'preprocessor.py'],\n",
    "        arguments=[\n",
    "            '--output-x', '/x.pkl',\n",
    "            '--output-y', '/y.pkl',\n",
    "    ],\n",
    "        file_outputs={\n",
    "            'x-output': '/x.pkl',\n",
    "            'y-output': '/y.pkl',\n",
    "        }\n",
    "    )\n",
    "    trainer = dsl.ContainerOp(\n",
    "        name='trainer',\n",
    "        image='praveen049/loan-predict-logreg-train',\n",
    "        command=['python', 'train.py'],\n",
    "        arguments=[\n",
    "            '--input_x_path_file', dsl.InputArgumentPath(preprocessor.outputs['x-output']),\n",
    "            '--input_y_path_file', dsl.InputArgumentPath(preprocessor.outputs['y-output']),\n",
    "            '--output_model', '/model.pkl',\n",
    "            '--output_model_path_file', '/model.txt',\n",
    "        ],\n",
    "        file_outputs={\n",
    "            'model': '/model.pkl',\n",
    "        }\n",
    "    )\n",
    "    trainer.after(preprocessor)"
   ]
  },
  {
   "cell_type": "code",
   "execution_count": 3,
   "metadata": {},
   "outputs": [],
   "source": [
    "compiler.Compiler().compile(pipeline, 'load-predict-pipeline-logreg.zip')"
   ]
  },
  {
   "cell_type": "code",
   "execution_count": 6,
   "metadata": {},
   "outputs": [],
   "source": [
    "client = kfp.Client()"
   ]
  },
  {
   "cell_type": "code",
   "execution_count": 7,
   "metadata": {},
   "outputs": [],
   "source": [
    "experiment = client.get_experiment(experiment_name=\"NMGCPExp\")"
   ]
  },
  {
   "cell_type": "code",
   "execution_count": 8,
   "metadata": {},
   "outputs": [
    {
     "data": {
      "text/html": [
       "Run link <a href=\"/pipeline/#/runs/details/96597c2a-f9cb-4926-b4ba-04eb87bd33c4\" target=\"_blank\" >here</a>"
      ],
      "text/plain": [
       "<IPython.core.display.HTML object>"
      ]
     },
     "metadata": {},
     "output_type": "display_data"
    }
   ],
   "source": [
    "run_result = client.run_pipeline(experiment.id, 'test-2', 'load-predict-pipeline-logreg.zip')"
   ]
  },
  {
   "cell_type": "code",
   "execution_count": null,
   "metadata": {},
   "outputs": [],
   "source": []
  }
 ],
 "metadata": {
  "kernelspec": {
   "display_name": "Python 3",
   "language": "python",
   "name": "python3"
  },
  "language_info": {
   "codemirror_mode": {
    "name": "ipython",
    "version": 3
   },
   "file_extension": ".py",
   "mimetype": "text/x-python",
   "name": "python",
   "nbconvert_exporter": "python",
   "pygments_lexer": "ipython3",
   "version": "3.7.4"
  }
 },
 "nbformat": 4,
 "nbformat_minor": 4
}
